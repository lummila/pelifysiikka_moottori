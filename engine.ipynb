{
 "cells": [
  {
   "cell_type": "code",
   "execution_count": null,
   "metadata": {},
   "outputs": [],
   "source": [
    "import matplotlib.pyplot as plt\n",
    "import numpy as np"
   ]
  },
  {
   "cell_type": "code",
   "execution_count": 56,
   "metadata": {},
   "outputs": [],
   "source": [
    "G = 9.81"
   ]
  },
  {
   "cell_type": "code",
   "execution_count": null,
   "metadata": {},
   "outputs": [],
   "source": [
    "class Nelikulmio:\n",
    "  # A, B, C, D, A\n",
    "  _coordinates: list[list[float, float]] = [[0.0, 0.0],\n",
    "                                            [0.0, 0.0],\n",
    "                                            [0.0, 0.0],\n",
    "                                            [0.0, 0.0],\n",
    "                                            [0.0, 0.0]]\n",
    "  \n",
    "  _xcm: float = 0.0\n",
    "  _ycm: float = 0.0\n",
    "\n",
    "  _mass: float = 0.0\n",
    "\n",
    "  def __init__(self,\n",
    "               a: list[float, float],\n",
    "               b: list[float, float],\n",
    "               c: list[float, float],\n",
    "               d: list[float, float],\n",
    "               mass: float) -> None:\n",
    "    \n",
    "    self._coordinates = [a, b, c, d, a]\n",
    "    self.calculate_cm()\n",
    "    \n",
    "    self._mass = mass\n",
    "\n",
    "  def move(self, x_change: float, y_change: float) -> None:\n",
    "    self._xcm += x_change\n",
    "    self._ycm += y_change\n",
    "  \n",
    "  def rotate(self) -> None:\n",
    "    pass\n",
    "\n",
    "  def print(self):\n",
    "    return ([x[0] + self._xcm for x in self._coordinates],\n",
    "            [y[0] + self._ycm for y in self._coordinates])\n",
    "\n",
    "  # Lasketaan uudet massakeskeispisteet\n",
    "  def calculate_cm(self) -> None:\n",
    "    for c in range(4):\n",
    "      self._xcm += self._coordinates[c][0]\n",
    "      self._ycm += self._coordinates[c][1]\n",
    "    \n",
    "    self._xcm *= 1.0 / 4\n",
    "    self._ycm *= 1.0 / 4\n",
    "\n",
    "    \n",
    "\n",
    "    \n",
    "  "
   ]
  },
  {
   "cell_type": "code",
   "execution_count": null,
   "metadata": {},
   "outputs": [
    {
     "data": {
      "image/png": "[encoded data removed]",
      "text/plain": [
       "<Figure size 640x480 with 1 Axes>"
      ]
     },
     "metadata": {},
     "output_type": "display_data"
    },
    {
     "name": "stdout",
     "output_type": "stream",
     "text": [
      "1.5 1.5\n"
     ]
    }
   ],
   "source": [
    "bingus = Nelikulmio((1.0, 1.0), (2.0, 1.0), (2.0, 2.0), (1.0, 2.0), 2.0)\n",
    "bongus = Nelikulmio((2.0, 2.0), (3.0, 2.0), (3.0, 3.0), (2.0, 3.0), 2.0)\n",
    "\n",
    "xcoords_a = [x[0] for x in bingus._coordinates]\n",
    "ycoords_a = [y[1] for y in bingus._coordinates]\n",
    "\n",
    "end_coords_x = [xcoords_a]\n",
    "end_coords_y = [ycoords_a]\n",
    "\n",
    "bingus.move\n",
    "\n",
    "# xcoords_b = [x[0] for x in bongus._coordinates]\n",
    "# ycoords_b = [y[1] for y in bongus._coordinates]\n",
    "\n",
    "# xcoords_a.append(xcoords_a[0])\n",
    "# ycoords_a.append(ycoords_a[0])\n",
    "\n",
    "# xcoords_b.append(xcoords_b[0])\n",
    "# ycoords_b.append(ycoords_b[0])\n",
    "\n",
    "plt.plot(xcoords_a, ycoords_a)\n",
    "# plt.plot(xcoords_b, ycoords_b)\n",
    "plt.xlabel(\"x\")\n",
    "plt.ylabel(\"y\")\n",
    "plt.show()\n",
    "\n",
    "print(bingus._xcm, bingus._ycm)"
   ]
  },
  {
   "cell_type": "code",
   "execution_count": 59,
   "metadata": {},
   "outputs": [
    {
     "ename": "AttributeError",
     "evalue": "'Nelikulmio' object has no attribute '_xlist'",
     "output_type": "error",
     "traceback": [
      "\u001b[1;31m---------------------------------------------------------------------------\u001b[0m",
      "\u001b[1;31mAttributeError\u001b[0m                            Traceback (most recent call last)",
      "Cell \u001b[1;32mIn[59], line 1\u001b[0m\n\u001b[1;32m----> 1\u001b[0m \u001b[38;5;28;01mwhile\u001b[39;00m \u001b[38;5;28mlen\u001b[39m(\u001b[43mbingus\u001b[49m\u001b[38;5;241;43m.\u001b[39;49m\u001b[43m_xlist\u001b[49m) \u001b[38;5;241m<\u001b[39m \u001b[38;5;241m10\u001b[39m:\n\u001b[0;32m      2\u001b[0m   bingus\u001b[38;5;241m.\u001b[39mmove(\u001b[38;5;241m1.0\u001b[39m, \u001b[38;5;241m0.0\u001b[39m)\n\u001b[0;32m      4\u001b[0m plt\u001b[38;5;241m.\u001b[39mplot(bingus\u001b[38;5;241m.\u001b[39m_xlist, bingus\u001b[38;5;241m.\u001b[39m_ylist)\n",
      "\u001b[1;31mAttributeError\u001b[0m: 'Nelikulmio' object has no attribute '_xlist'"
     ]
    }
   ],
   "source": [
    "while len(bingus._xlist) < 10:\n",
    "  bingus.move(1.0, 0.0)\n",
    "\n",
    "plt.plot(bingus._xlist, bingus._ylist)\n",
    "# plt.plot(xcoords_b, ycoords_b)\n",
    "plt.xlabel(\"x\")\n",
    "plt.ylabel(\"y\")\n",
    "plt.show()"
   ]
  }
 ],
 "metadata": {
  "kernelspec": {
   "display_name": "Python 3",
   "language": "python",
   "name": "python3"
  },
  "language_info": {
   "codemirror_mode": {
    "name": "ipython",
    "version": 3
   },
   "file_extension": ".py",
   "mimetype": "text/x-python",
   "name": "python",
   "nbconvert_exporter": "python",
   "pygments_lexer": "ipython3",
   "version": "3.12.0"
  }
 },
 "nbformat": 4,
 "nbformat_minor": 2
}
